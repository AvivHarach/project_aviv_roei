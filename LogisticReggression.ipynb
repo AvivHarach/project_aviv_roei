{
 "cells": [
  {
   "cell_type": "code",
   "id": "initial_id",
   "metadata": {
    "collapsed": true,
    "ExecuteTime": {
     "end_time": "2024-11-21T11:04:36.117227Z",
     "start_time": "2024-11-21T11:04:36.085302Z"
    }
   },
   "source": [
    "from sklearn.model_selection import train_test_split\n",
    "from sklearn.linear_model import LogisticRegression\n",
    "from sklearn.metrics import accuracy_score, classification_report\n",
    "import numpy as np\n",
    "import pandas as pd\n",
    "\n",
    "# Path to the Excel file\n",
    "file_path = r'C:\\Users\\avivh\\Desktop\\פרוייקט גמר\\LogisticReggression.xlsx'\n",
    "\n",
    "# Load the Excel file into a pandas DataFrame\n",
    "data = pd.read_excel(file_path)\n",
    "\n",
    "# Display the first few rows of the data to verify import\n",
    "print(data.head())\n",
    "\n",
    "data = data.dropna()\n",
    "\n",
    "# Adding the dummy variable\n",
    "#data['Has_Opportunity'] = np.where(data['Y = Is there an arbitrage opportunity'] == 1, 1, 0)\n",
    "\n",
    "# Defining the target variable Y and explanatory variables X, including Has_Opportunity and X4 (Coin Price during launch)\n",
    "X = data[['X1 = Trading volume difference in percentage', \n",
    "          'X2 = Price change in percentage before coin launch', \n",
    "          'X3 = Coin Price at the point'\n",
    "          ]]\n",
    "y = data['Y = Is there an arbitrage opportunity']\n",
    "\n",
    "\n"
   ],
   "outputs": [
    {
     "name": "stdout",
     "output_type": "stream",
     "text": [
      "     Date        Launch  Y = Is there an arbitrage opportunity  \\\n",
      "0     NaN           NaN                                    NaN   \n",
      "1  1.5.23    PEPE - OKX                                    1.0   \n",
      "2  5.5.23   PEPE-KuCoin                                    1.0   \n",
      "3  5.5.23  PEPE- KuCoin                                    1.0   \n",
      "4  5.5.23  PEPE-Binance                                    0.0   \n",
      "\n",
      "   X1 = Trading volume difference in percentage  \\\n",
      "0                                           NaN   \n",
      "1                                          57.0   \n",
      "2                                         202.0   \n",
      "3                                         113.0   \n",
      "4                                          86.0   \n",
      "\n",
      "   X2 = Price change in percentage before coin launch  \\\n",
      "0                                                NaN    \n",
      "1                                               66.0    \n",
      "2                                               22.0    \n",
      "3                                               64.0    \n",
      "4                                              208.0    \n",
      "\n",
      "   X3 = Coin Price at the point            Unnamed: 6  \n",
      "0                           NaN  Logistic Regression   \n",
      "1                      0.000001               0.86056  \n",
      "2                      0.000003              0.953064  \n",
      "3                      0.000003              0.876592  \n",
      "4                      0.000033              0.239768  \n"
     ]
    }
   ],
   "execution_count": 25
  },
  {
   "metadata": {
    "ExecuteTime": {
     "end_time": "2024-11-21T11:04:41.383521Z",
     "start_time": "2024-11-21T11:04:41.345699Z"
    }
   },
   "cell_type": "code",
   "source": [
    "# Splitting the data into training and test sets\n",
    "X_train, X_test, y_train, y_test = train_test_split(X, y, test_size=0.3, random_state=0)\n",
    "\n",
    "\n",
    "# Defining and training the model\n",
    "model = LogisticRegression()\n",
    "model.fit(X_train, y_train)\n",
    "\n",
    "# Making predictions on the test set\n",
    "y_pred = model.predict(X_test)\n",
    "\n",
    "# Evaluating the model's performance\n",
    "accuracy = accuracy_score(y_test, y_pred)\n",
    "classification_rep = classification_report(y_test, y_pred)\n",
    "\n",
    "# Printing model performance\n",
    "print(\"Model Accuracy:\", accuracy)\n",
    "print(\"\\nClassification Report:\\n\", classification_rep)\n",
    "\n",
    "# Getting model coefficients (betas) and intercept\n",
    "coefficients = model.coef_[0]\n",
    "intercept = model.intercept_[0]\n",
    "\n",
    "# Displaying coefficients and intercept\n",
    "print(\"\\nModel Intercept (Bias):\", intercept)\n",
    "print(\"Model Coefficients (Betas):\")\n",
    "for feature, coef in zip(X.columns, coefficients):\n",
    "    print(f\"{feature}: {coef}\")\n"
   ],
   "id": "e472dc186124cc76",
   "outputs": [
    {
     "name": "stdout",
     "output_type": "stream",
     "text": [
      "Model Accuracy: 0.875\n",
      "\n",
      "Classification Report:\n",
      "               precision    recall  f1-score   support\n",
      "\n",
      "         0.0       1.00      0.75      0.86         4\n",
      "         1.0       0.80      1.00      0.89         4\n",
      "\n",
      "    accuracy                           0.88         8\n",
      "   macro avg       0.90      0.88      0.87         8\n",
      "weighted avg       0.90      0.88      0.87         8\n",
      "\n",
      "\n",
      "Model Intercept (Bias): 3.126390258358916\n",
      "Model Coefficients (Betas):\n",
      "X1 = Trading volume difference in percentage: 0.0017582771726725882\n",
      "X2 = Price change in percentage before coin launch: -0.0213020663492432\n",
      "X3 = Coin Price at the point: -1.5832000671936384\n"
     ]
    }
   ],
   "execution_count": 26
  },
  {
   "metadata": {},
   "cell_type": "markdown",
   "source": "AOC-ROC",
   "id": "882cd5dedfb7047d"
  },
  {
   "metadata": {
    "ExecuteTime": {
     "end_time": "2024-11-21T11:04:51.679598Z",
     "start_time": "2024-11-21T11:04:49.036675Z"
    }
   },
   "cell_type": "code",
   "source": [
    "from sklearn.metrics import roc_curve, roc_auc_score\n",
    "import matplotlib.pyplot as plt\n",
    "\n",
    "# Assuming X_test, y_test are the test set and y_pred_prob are the predicted probabilities\n",
    "\n",
    "# Step 1: Predict probabilities for the positive class (1)\n",
    "y_pred_prob = model.predict_proba(X_test)[:, 1]  # Probability for class 1\n",
    "\n",
    "# Step 2: Calculate the ROC curve\n",
    "fpr, tpr, thresholds = roc_curve(y_test, y_pred_prob)\n",
    "\n",
    "# Step 3: Calculate the AUC score\n",
    "auc_score = roc_auc_score(y_test, y_pred_prob)\n",
    "\n",
    "# Step 4: Plot the ROC curve\n",
    "plt.figure(figsize=(8, 6))\n",
    "plt.plot(fpr, tpr, color='blue', label=f'AUC = {auc_score:.2f}')\n",
    "plt.plot([0, 1], [0, 1], color='gray', linestyle='--')  # Random guessing line\n",
    "plt.title('Receiver Operating Characteristic (ROC) Curve')\n",
    "plt.xlabel('False Positive Rate (FPR)')\n",
    "plt.ylabel('True Positive Rate (TPR)')\n",
    "plt.legend(loc='lower right')\n",
    "plt.show()\n",
    "\n",
    "# Print the AUC score\n",
    "print(\"AUC Score:\", auc_score)\n"
   ],
   "id": "3d22efc8f3908849",
   "outputs": [
    {
     "data": {
      "text/plain": [
       "<Figure size 800x600 with 1 Axes>"
      ],
      "image/png": "[encoded data removed]"
     },
     "metadata": {},
     "output_type": "display_data"
    },
    {
     "name": "stdout",
     "output_type": "stream",
     "text": [
      "AUC Score: 0.8125\n"
     ]
    }
   ],
   "execution_count": 27
  },
  {
   "metadata": {},
   "cell_type": "markdown",
   "source": "Normalizing and balancing the data",
   "id": "e9d07102f28e6b0"
  },
  {
   "metadata": {
    "ExecuteTime": {
     "end_time": "2024-11-19T14:00:07.298333Z",
     "start_time": "2024-11-19T14:00:07.266092Z"
    }
   },
   "cell_type": "code",
   "source": [
    "from sklearn.preprocessing import StandardScaler\n",
    "\n",
    "# Splitting the data into training and test sets\n",
    "X_train, X_test, y_train, y_test = train_test_split(X, y, test_size=0.3, random_state=0)\n",
    "\n",
    "\n",
    "scaler = StandardScaler()\n",
    "X_normalized = scaler.fit_transform(X)\n",
    "\n",
    "model = LogisticRegression(class_weight='balanced')\n",
    "model.fit(X_train, y_train)\n"
   ],
   "id": "e564430450f4a656",
   "outputs": [
    {
     "data": {
      "text/plain": [
       "LogisticRegression(class_weight='balanced')"
      ],
      "text/html": [
       "<style>#sk-container-id-5 {color: black;background-color: white;}#sk-container-id-5 pre{padding: 0;}#sk-container-id-5 div.sk-toggleable {background-color: white;}#sk-container-id-5 label.sk-toggleable__label {cursor: pointer;display: block;width: 100%;margin-bottom: 0;padding: 0.3em;box-sizing: border-box;text-align: center;}#sk-container-id-5 label.sk-toggleable__label-arrow:before {content: \"▸\";float: left;margin-right: 0.25em;color: #696969;}#sk-container-id-5 label.sk-toggleable__label-arrow:hover:before {color: black;}#sk-container-id-5 div.sk-estimator:hover label.sk-toggleable__label-arrow:before {color: black;}#sk-container-id-5 div.sk-toggleable__content {max-height: 0;max-width: 0;overflow: hidden;text-align: left;background-color: #f0f8ff;}#sk-container-id-5 div.sk-toggleable__content pre {margin: 0.2em;color: black;border-radius: 0.25em;background-color: #f0f8ff;}#sk-container-id-5 input.sk-toggleable__control:checked~div.sk-toggleable__content {max-height: 200px;max-width: 100%;overflow: auto;}#sk-container-id-5 input.sk-toggleable__control:checked~label.sk-toggleable__label-arrow:before {content: \"▾\";}#sk-container-id-5 div.sk-estimator input.sk-toggleable__control:checked~label.sk-toggleable__label {background-color: #d4ebff;}#sk-container-id-5 div.sk-label input.sk-toggleable__control:checked~label.sk-toggleable__label {background-color: #d4ebff;}#sk-container-id-5 input.sk-hidden--visually {border: 0;clip: rect(1px 1px 1px 1px);clip: rect(1px, 1px, 1px, 1px);height: 1px;margin: -1px;overflow: hidden;padding: 0;position: absolute;width: 1px;}#sk-container-id-5 div.sk-estimator {font-family: monospace;background-color: #f0f8ff;border: 1px dotted black;border-radius: 0.25em;box-sizing: border-box;margin-bottom: 0.5em;}#sk-container-id-5 div.sk-estimator:hover {background-color: #d4ebff;}#sk-container-id-5 div.sk-parallel-item::after {content: \"\";width: 100%;border-bottom: 1px solid gray;flex-grow: 1;}#sk-container-id-5 div.sk-label:hover label.sk-toggleable__label {background-color: #d4ebff;}#sk-container-id-5 div.sk-serial::before {content: \"\";position: absolute;border-left: 1px solid gray;box-sizing: border-box;top: 0;bottom: 0;left: 50%;z-index: 0;}#sk-container-id-5 div.sk-serial {display: flex;flex-direction: column;align-items: center;background-color: white;padding-right: 0.2em;padding-left: 0.2em;position: relative;}#sk-container-id-5 div.sk-item {position: relative;z-index: 1;}#sk-container-id-5 div.sk-parallel {display: flex;align-items: stretch;justify-content: center;background-color: white;position: relative;}#sk-container-id-5 div.sk-item::before, #sk-container-id-5 div.sk-parallel-item::before {content: \"\";position: absolute;border-left: 1px solid gray;box-sizing: border-box;top: 0;bottom: 0;left: 50%;z-index: -1;}#sk-container-id-5 div.sk-parallel-item {display: flex;flex-direction: column;z-index: 1;position: relative;background-color: white;}#sk-container-id-5 div.sk-parallel-item:first-child::after {align-self: flex-end;width: 50%;}#sk-container-id-5 div.sk-parallel-item:last-child::after {align-self: flex-start;width: 50%;}#sk-container-id-5 div.sk-parallel-item:only-child::after {width: 0;}#sk-container-id-5 div.sk-dashed-wrapped {border: 1px dashed gray;margin: 0 0.4em 0.5em 0.4em;box-sizing: border-box;padding-bottom: 0.4em;background-color: white;}#sk-container-id-5 div.sk-label label {font-family: monospace;font-weight: bold;display: inline-block;line-height: 1.2em;}#sk-container-id-5 div.sk-label-container {text-align: center;}#sk-container-id-5 div.sk-container {/* jupyter's `normalize.less` sets `[hidden] { display: none; }` but bootstrap.min.css set `[hidden] { display: none !important; }` so we also need the `!important` here to be able to override the default hidden behavior on the sphinx rendered scikit-learn.org. See: https://github.com/scikit-learn/scikit-learn/issues/21755 */display: inline-block !important;position: relative;}#sk-container-id-5 div.sk-text-repr-fallback {display: none;}</style><div id=\"sk-container-id-5\" class=\"sk-top-container\"><div class=\"sk-text-repr-fallback\"><pre>LogisticRegression(class_weight=&#x27;balanced&#x27;)</pre><b>In a Jupyter environment, please rerun this cell to show the HTML representation or trust the notebook. <br />On GitHub, the HTML representation is unable to render, please try loading this page with nbviewer.org.</b></div><div class=\"sk-container\" hidden><div class=\"sk-item\"><div class=\"sk-estimator sk-toggleable\"><input class=\"sk-toggleable__control sk-hidden--visually\" id=\"sk-estimator-id-5\" type=\"checkbox\" checked><label for=\"sk-estimator-id-5\" class=\"sk-toggleable__label sk-toggleable__label-arrow\">LogisticRegression</label><div class=\"sk-toggleable__content\"><pre>LogisticRegression(class_weight=&#x27;balanced&#x27;)</pre></div></div></div></div></div>"
      ]
     },
     "execution_count": 33,
     "metadata": {},
     "output_type": "execute_result"
    }
   ],
   "execution_count": 33
  },
  {
   "metadata": {
    "ExecuteTime": {
     "end_time": "2024-11-19T14:00:08.949239Z",
     "start_time": "2024-11-19T14:00:08.922723Z"
    }
   },
   "cell_type": "code",
   "source": [
    "\n",
    "# Making predictions on the test set\n",
    "y_pred = model.predict(X_test)\n",
    "\n",
    "# Evaluating the model's performance\n",
    "accuracy = accuracy_score(y_test, y_pred)\n",
    "classification_rep = classification_report(y_test, y_pred)\n",
    "\n",
    "# Printing model performance\n",
    "print(\"Model Accuracy:\", accuracy)\n",
    "print(\"\\nClassification Report:\\n\", classification_rep)\n",
    "\n",
    "# Getting model coefficients (betas) and intercept\n",
    "coefficients = model.coef_[0]\n",
    "intercept = model.intercept_[0]\n",
    "\n",
    "# Displaying coefficients and intercept\n",
    "print(\"\\nModel Intercept (Bias):\", intercept)\n",
    "print(\"Model Coefficients (Betas):\")\n",
    "for feature, coef in zip(X.columns, coefficients):\n",
    "    print(f\"{feature}: {coef}\")\n"
   ],
   "id": "683d4d6f036fba68",
   "outputs": [
    {
     "name": "stdout",
     "output_type": "stream",
     "text": [
      "Model Accuracy: 0.8333333333333334\n",
      "\n",
      "Classification Report:\n",
      "               precision    recall  f1-score   support\n",
      "\n",
      "         0.0       1.00      0.67      0.80         3\n",
      "         1.0       0.75      1.00      0.86         3\n",
      "\n",
      "    accuracy                           0.83         6\n",
      "   macro avg       0.88      0.83      0.83         6\n",
      "weighted avg       0.88      0.83      0.83         6\n",
      "\n",
      "\n",
      "Model Intercept (Bias): -0.011537171709150078\n",
      "Model Coefficients (Betas):\n",
      "X1 = Trading volume difference in percentage: 0.005698106529630936\n",
      "X2 = Price change in percentage before coin launch: -0.010865383866171656\n",
      "X3 = Coin Price during launch: -0.7217417375241029\n",
      "Has_Opportunity: 1.3949208961515607\n"
     ]
    }
   ],
   "execution_count": 34
  },
  {
   "metadata": {},
   "cell_type": "markdown",
   "source": "Logistic Reggression with time dimension",
   "id": "be190d2d74f1868d"
  },
  {
   "metadata": {
    "ExecuteTime": {
     "end_time": "2024-11-21T10:36:57.924278Z",
     "start_time": "2024-11-21T10:36:57.827143Z"
    }
   },
   "cell_type": "code",
   "source": [
    "from sklearn.model_selection import train_test_split\n",
    "from sklearn.linear_model import LogisticRegression\n",
    "from sklearn.metrics import accuracy_score, classification_report\n",
    "import numpy as np\n",
    "import pandas as pd\n",
    "\n",
    "# Path to the Excel file\n",
    "file_path = r'C:\\Users\\avivh\\Desktop\\פרוייקט גמר\\LogisticReggression2.xlsx'\n",
    "\n",
    "# Load the Excel file into a pandas DataFrame\n",
    "data = pd.read_excel(file_path)\n",
    "\n",
    "# Display the first few rows of the data to verify import\n",
    "print(data.head())\n",
    "\n",
    "data = data.dropna()\n",
    "\n",
    "# Adding the dummy variable\n",
    "data['Has_Opportunity'] = np.where(data['Y = Is there an arbitrage opportunity'] == 1, 1, 0)\n",
    "\n",
    "# Defining the target variable Y and explanatory variables X, including Has_Opportunity and X4 (Coin Price during launch)\n",
    "X = data[['X1 = Trading volume difference in percentage', \n",
    "          'X2 = Time from launch to opportunity window start',\n",
    "          'X3 = Price change in percentage before coin launch', \n",
    "          'X4 = Coin Price during launch',\n",
    "          'Has_Opportunity']]\n",
    "y = data['Y = Is there an arbitrage opportunity']\n",
    "\n",
    "# Splitting the data into training and test sets\n",
    "X_train, X_test, y_train, y_test = train_test_split(X, y, test_size=0.3, random_state=0)\n",
    "\n",
    "\n",
    "# Defining and training the model\n",
    "model = LogisticRegression()\n",
    "model.fit(X_train, y_train)\n",
    "\n",
    "# Making predictions on the test set\n",
    "y_pred = model.predict(X_test)\n",
    "\n",
    "# Evaluating the model's performance\n",
    "accuracy = accuracy_score(y_test, y_pred)\n",
    "classification_rep = classification_report(y_test, y_pred)\n",
    "\n",
    "# Printing model performance\n",
    "print(\"Model Accuracy:\", accuracy)\n",
    "print(\"\\nClassification Report:\\n\", classification_rep)\n",
    "\n",
    "# Getting model coefficients (betas) and intercept\n",
    "coefficients = model.coef_[0]\n",
    "intercept = model.intercept_[0]\n",
    "\n",
    "# Displaying coefficients and intercept\n",
    "print(\"\\nModel Intercept (Bias):\", intercept)\n",
    "print(\"Model Coefficients (Betas):\")\n",
    "for feature, coef in zip(X.columns, coefficients):\n",
    "    print(f\"{feature}: {coef}\")\n",
    "\n"
   ],
   "id": "acf60e41e91046ed",
   "outputs": [
    {
     "name": "stdout",
     "output_type": "stream",
     "text": [
      "     Date        Launch  Y = Is there an arbitrage opportunity  \\\n",
      "0     NaN           NaN                                    NaN   \n",
      "1  1.5.23    PEPE - OKX                                    1.0   \n",
      "2  5.5.23   PEPE-KuCoin                                    1.0   \n",
      "3  5.5.23  PEPE- KuCoin                                    1.0   \n",
      "4  6.5.23  PEPE-Binance                                    0.0   \n",
      "\n",
      "   X1 = Trading volume difference in percentage  \\\n",
      "0                                           NaN   \n",
      "1                                          57.0   \n",
      "2                                         202.0   \n",
      "3                                         113.0   \n",
      "4                                          86.0   \n",
      "\n",
      "   X2 = Time from launch to opportunity window start  \\\n",
      "0                                                NaN   \n",
      "1                                                0.0   \n",
      "2                                               54.0   \n",
      "3                                              100.0   \n",
      "4                                            10000.0   \n",
      "\n",
      "   X3 = Price change in percentage before coin launch  \\\n",
      "0                                                NaN    \n",
      "1                                               66.0    \n",
      "2                                               22.0    \n",
      "3                                               64.0    \n",
      "4                                              208.0    \n",
      "\n",
      "   X4 = Coin Price during launch  \n",
      "0                            NaN  \n",
      "1                       0.000001  \n",
      "2                       0.000003  \n",
      "3                       0.000003  \n",
      "4                       0.000033  \n",
      "Model Accuracy: 1.0\n",
      "\n",
      "Classification Report:\n",
      "               precision    recall  f1-score   support\n",
      "\n",
      "         0.0       1.00      1.00      1.00         3\n",
      "         1.0       1.00      1.00      1.00         3\n",
      "\n",
      "    accuracy                           1.00         6\n",
      "   macro avg       1.00      1.00      1.00         6\n",
      "weighted avg       1.00      1.00      1.00         6\n",
      "\n",
      "\n",
      "Model Intercept (Bias): 17.751138037348174\n",
      "Model Coefficients (Betas):\n",
      "X1 = Trading volume difference in percentage: 5.736582349073433e-05\n",
      "X2 = Time from launch to opportunity window start: -0.0033998592940500077\n",
      "X3 = Price change in percentage before coin launch: 3.894782433694855e-06\n",
      "X4 = Coin Price during launch: -4.979640988446765e-06\n",
      "Has_Opportunity: 5.410660390064284e-06\n"
     ]
    }
   ],
   "execution_count": 18
  },
  {
   "metadata": {},
   "cell_type": "markdown",
   "source": "",
   "id": "a8d102226da14301"
  }
 ],
 "metadata": {
  "kernelspec": {
   "display_name": "Python 3",
   "language": "python",
   "name": "python3"
  },
  "language_info": {
   "codemirror_mode": {
    "name": "ipython",
    "version": 2
   },
   "file_extension": ".py",
   "mimetype": "text/x-python",
   "name": "python",
   "nbconvert_exporter": "python",
   "pygments_lexer": "ipython2",
   "version": "2.7.6"
  }
 },
 "nbformat": 4,
 "nbformat_minor": 5
}
